{
 "cells": [
  {
   "cell_type": "markdown",
   "metadata": {},
   "source": [
    "# Домашнее задание\n",
    "\n",
    "1. Переведите содержимое файла purchase_log.txt в словарь purchases вида: {‘1840e0b9d4’: ‘Продукты’, …}\n",
    "\n",
    "2. Для каждого user_id в файле visit_log.csv определите третий столбец с категорией покупки (если покупка была, сам файл visit_log.csv изменять не надо). Запишите в файл funnel.csv визиты из файла visit_log.csv, в которых были покупки с указанием категории.\n",
    "Учтите условия на данные:\n",
    "содержимое purchase_log.txt помещается в оперативную память компьютера\n",
    "содержимое visit_log.csv - нет; используйте только построчную обработку этого файла"
   ]
  },
  {
   "cell_type": "code",
   "execution_count": 1,
   "metadata": {},
   "outputs": [],
   "source": [
    "import json\n",
    "\n",
    "visitFile = open('visit_log.csv', 'r', encoding='utf-8')\n",
    "purchaseFile = open('purchase_log.txt', 'r', encoding='utf-8')\n",
    "funnelFile = open('funnel.csv', 'w')\n",
    "purchaseContent = purchaseFile.readlines()\n",
    "purchaseDict = {}\n",
    "\n",
    "#1\n",
    "for line in purchaseContent:\n",
    "    tempDict = json.loads(line)\n",
    "    if tempDict[\"user_id\"] == 'user_id':\n",
    "        continue\n",
    "    purchaseDict[tempDict[\"user_id\"]] = tempDict[\"category\"]\n",
    "    \n",
    "#2\n",
    "for line in visitFile:\n",
    "    listLine = line.strip().split(',')\n",
    "    if 'user_id' in listLine: #head\n",
    "        listLine.append('category')\n",
    "    elif listLine[0] in purchaseDict:\n",
    "        listLine.append(purchaseDict[listLine[0]])\n",
    "    else:\n",
    "        continue\n",
    "    funnelFile.write(','.join(listLine)+'\\n')\n",
    "funnelFile.close()"
   ]
  },
  {
   "cell_type": "code",
   "execution_count": null,
   "metadata": {},
   "outputs": [],
   "source": []
  }
 ],
 "metadata": {
  "kernelspec": {
   "display_name": "Python 3",
   "language": "python",
   "name": "python3"
  },
  "language_info": {
   "codemirror_mode": {
    "name": "ipython",
    "version": 3
   },
   "file_extension": ".py",
   "mimetype": "text/x-python",
   "name": "python",
   "nbconvert_exporter": "python",
   "pygments_lexer": "ipython3",
   "version": "3.8.3"
  }
 },
 "nbformat": 4,
 "nbformat_minor": 4
}
