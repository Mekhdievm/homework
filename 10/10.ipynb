{
 "cells": [
  {
   "cell_type": "markdown",
   "metadata": {},
   "source": [
    "# Задание 1\n",
    "Скачайте с сайта https://grouplens.org/datasets/movielens/ датасет любого размера. Определите какому фильму было выставлено больше всего оценок 5.0."
   ]
  },
  {
   "cell_type": "code",
   "execution_count": 2,
   "metadata": {},
   "outputs": [
    {
     "data": {
      "text/plain": [
       "Shawshank Redemption, The (1994)    153\n",
       "Name: title, dtype: int64"
      ]
     },
     "execution_count": 2,
     "metadata": {},
     "output_type": "execute_result"
    }
   ],
   "source": [
    "import pandas as pd\n",
    "\n",
    "ratings = pd.read_csv('ml-latest-small/ratings.csv')\n",
    "movies = pd.read_csv('ml-latest-small/movies.csv')\n",
    "joined = ratings.merge(movies, on='movieId', how='left')\n",
    "bests = joined[ joined.rating == 5 ]\n",
    "bests['title'].value_counts().head(1)"
   ]
  },
  {
   "cell_type": "markdown",
   "metadata": {},
   "source": [
    "# Задание 2\n",
    "По данным файла power.csv посчитайте суммарное потребление стран Прибалтики (Латвия, Литва и Эстония) категорий 4, 12 и 21 за период с 2005 по 2010 года. Не учитывайте в расчетах отрицательные значения quantity."
   ]
  },
  {
   "cell_type": "code",
   "execution_count": 3,
   "metadata": {},
   "outputs": [
    {
     "data": {
      "text/plain": [
       "240580.0"
      ]
     },
     "execution_count": 3,
     "metadata": {},
     "output_type": "execute_result"
    }
   ],
   "source": [
    "data = pd.read_csv('power.csv')\n",
    "baltics = data.query('country == \"Latvia\" or country == \"Lithuania\" or country == \"Estonia\"')\n",
    "categories = baltics.query('category == 4 or category == 12 or category == 21')\n",
    "period = categories.query('year >= 2005 and year <= 2010')\n",
    "positive = period[ period.quantity > 0 ]\n",
    "positive['quantity'].sum()"
   ]
  },
  {
   "cell_type": "markdown",
   "metadata": {},
   "source": [
    "# Задание 3\n",
    "Выберите страницу любого сайта с табличными данными. Импортируйте таблицы в pandas dataframe.\n",
    "Примеры страниц (необязательно брать именно эти):\n",
    "https://fortrader.org/quotes\n",
    "https://www.finanz.ru/valyuty/v-realnom-vremeni"
   ]
  },
  {
   "cell_type": "code",
   "execution_count": 5,
   "metadata": {},
   "outputs": [
    {
     "data": {
      "text/plain": [
       "[               Unnamed: 0   Умерли  Смертность*  Заразились  \\\n",
       " 0                     США  253 307        774.0  11 860 676   \n",
       " 1                Бразилия  168 613        805.0   6 020 164   \n",
       " 2                   Индия  132 726         98.0   9 050 597   \n",
       " 3                 Мексика  100 823        799.0   1 025 969   \n",
       " 4          Великобритания   54 286        809.0   1 473 508   \n",
       " ..                    ...      ...          ...         ...   \n",
       " 210    Соломоновы Острова        0          0.0          16   \n",
       " 211  Фолклендские острова        0          0.0          16   \n",
       " 212    Маршалловы острова        0          0.0           4   \n",
       " 213               Ангилья        0          0.0           3   \n",
       " 214               Вануату        0          0.0           1   \n",
       " \n",
       "      Новые случаи  0  10  100  1000  5000  **  Unnamed: 5  \n",
       " 0                                         NaN         NaN  \n",
       " 1                                         NaN         NaN  \n",
       " 2                                         NaN         NaN  \n",
       " 3                                         NaN         NaN  \n",
       " 4                                         NaN         NaN  \n",
       " ..                                        ...         ...  \n",
       " 210                                       NaN         NaN  \n",
       " 211                                       NaN         NaN  \n",
       " 212                                       NaN         NaN  \n",
       " 213                                       NaN         NaN  \n",
       " 214                                       NaN         NaN  \n",
       " \n",
       " [215 rows x 6 columns]]"
      ]
     },
     "execution_count": 5,
     "metadata": {},
     "output_type": "execute_result"
    }
   ],
   "source": [
    "page_url = 'https://www.bbc.com/russian/news-51706538'\n",
    "df = pd.read_html(page_url, attrs = {'class': 'core-table gel-brevier'}, encoding='utf-8')\n",
    "df[:6]"
   ]
  },
  {
   "cell_type": "code",
   "execution_count": null,
   "metadata": {},
   "outputs": [],
   "source": []
  }
 ],
 "metadata": {
  "kernelspec": {
   "display_name": "Python 3",
   "language": "python",
   "name": "python3"
  },
  "language_info": {
   "codemirror_mode": {
    "name": "ipython",
    "version": 3
   },
   "file_extension": ".py",
   "mimetype": "text/x-python",
   "name": "python",
   "nbconvert_exporter": "python",
   "pygments_lexer": "ipython3",
   "version": "3.8.3"
  }
 },
 "nbformat": 4,
 "nbformat_minor": 4
}
